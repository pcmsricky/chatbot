{
  "cells": [
    {
      "cell_type": "markdown",
      "source": [
        "# (FD22-0493) 聊天機械人的技術原理和應用\n",
        "\n",
        "\n",
        "1. 瞭解人工智能發展的現況\n",
        "2. 學習NLP自然語言的理論\n",
        "3. 認識聊天機械人的技術和應用範圍\n",
        "4. 利用Python語言實作簡單的聊天機械人\n",
        "\n",
        "\n"
      ],
      "metadata": {
        "id": "d-IomB_o6scO"
      }
    },
    {
      "cell_type": "markdown",
      "source": [
        "# 1.下載教材\n"
      ],
      "metadata": {
        "id": "nSC4Rsx5AHKZ"
      }
    },
    {
      "cell_type": "code",
      "source": [
        "!git clone https://github.com/pcmsricky/chatbot\n",
        "%cd chatbot"
      ],
      "metadata": {
        "colab": {
          "base_uri": "https://localhost:8080/"
        },
        "id": "seXmkSXXw6oE",
        "outputId": "9d9e387b-ef56-42a7-a7fb-75f65050209f"
      },
      "execution_count": null,
      "outputs": [
        {
          "output_type": "stream",
          "name": "stdout",
          "text": [
            "Cloning into 'chatbot'...\n",
            "remote: Enumerating objects: 46, done.\u001b[K\n",
            "remote: Counting objects: 100% (10/10), done.\u001b[K\n",
            "remote: Compressing objects: 100% (9/9), done.\u001b[K\n",
            "remote: Total 46 (delta 1), reused 8 (delta 1), pack-reused 36\u001b[K\n",
            "Unpacking objects: 100% (46/46), done.\n",
            "/content/chatbot\n"
          ]
        }
      ]
    },
    {
      "cell_type": "markdown",
      "source": [
        "# 2. Python 中的變數"
      ],
      "metadata": {
        "id": "-HFHLlNYAXSS"
      }
    },
    {
      "cell_type": "code",
      "source": [
        "#單獨的變數\n",
        "num = 3           #數字變數\n",
        "text = 'Hello'    #文字變數\n",
        "\n",
        "print(num)"
      ],
      "metadata": {
        "id": "Kry2AbipzWUL",
        "colab": {
          "base_uri": "https://localhost:8080/"
        },
        "outputId": "2028cb08-5bfa-4eee-972d-6edae01db1d2"
      },
      "execution_count": null,
      "outputs": [
        {
          "output_type": "stream",
          "name": "stdout",
          "text": [
            "3\n"
          ]
        }
      ]
    },
    {
      "cell_type": "code",
      "source": [
        "#list, 一個變數可以儲存多個資料\n",
        "nlist = [1,3,5]\n",
        "nlist.append(8)\n",
        "\n",
        "tlist = ['hello','morning']\n",
        "xlist = ['hello',1,4,'Peter']\n",
        "\n",
        "print(nlist)"
      ],
      "metadata": {
        "colab": {
          "base_uri": "https://localhost:8080/"
        },
        "id": "ulwGlcgVBKHV",
        "outputId": "5fdffe49-43d2-4389-94ec-b901d10f8e5b"
      },
      "execution_count": null,
      "outputs": [
        {
          "output_type": "stream",
          "name": "stdout",
          "text": [
            "[1, 3, 5, 8]\n"
          ]
        }
      ]
    },
    {
      "cell_type": "markdown",
      "source": [
        "# 3. 在list中搜尋"
      ],
      "metadata": {
        "id": "X0hM2qHMCu8B"
      }
    },
    {
      "cell_type": "code",
      "source": [
        "DB = [1,4,5,8]\n",
        "target = 4\n",
        "\n",
        "for x in DB:\n",
        "  if x==target:\n",
        "    print('I found it.')\n",
        "    break\n",
        "else:\n",
        "  print('not found.')"
      ],
      "metadata": {
        "colab": {
          "base_uri": "https://localhost:8080/"
        },
        "id": "TBw1KaLTC8-9",
        "outputId": "9d85e42c-9917-4c12-c8d1-7bb23e89e627"
      },
      "execution_count": null,
      "outputs": [
        {
          "output_type": "stream",
          "name": "stdout",
          "text": [
            "I found it.\n"
          ]
        }
      ]
    },
    {
      "cell_type": "markdown",
      "source": [
        "# 4. 用list做語料庫"
      ],
      "metadata": {
        "id": "bM3GJIU6B8ia"
      }
    },
    {
      "cell_type": "code",
      "source": [
        "DB = ['hello','morning','sunday','What is your name?']\n",
        "target = input('youAsk:')\n",
        "for q in DB:\n",
        "  if q==target:\n",
        "    print('I found it.')\n",
        "    break\n",
        "else:\n",
        "  print('not found.')    "
      ],
      "metadata": {
        "colab": {
          "base_uri": "https://localhost:8080/"
        },
        "id": "V8db0a8BCITm",
        "outputId": "256efbec-9574-468c-cdee-54ac1887aee0"
      },
      "execution_count": null,
      "outputs": [
        {
          "output_type": "stream",
          "name": "stdout",
          "text": [
            "youAsk:Sunday\n",
            "not found.\n"
          ]
        }
      ]
    },
    {
      "cell_type": "markdown",
      "source": [
        "# 5.在list中搜尋最接近的值, 神奇的tuple"
      ],
      "metadata": {
        "id": "BUdy_1ruE_nF"
      }
    },
    {
      "cell_type": "code",
      "source": [
        "DB = [1,4,5,8]\n",
        "target = 4\n",
        "\n",
        "tmp = []\n",
        "for x in DB:\n",
        "  tmp.append(  (abs(target-x),x) )\n",
        "\n",
        "print(tmp)  \n",
        "DB = sorted(tmp)\n",
        "print(DB)\n",
        "diff,ans = DB[0]\n",
        "print(ans)"
      ],
      "metadata": {
        "colab": {
          "base_uri": "https://localhost:8080/"
        },
        "id": "NfkW49hRFPup",
        "outputId": "92fd8810-2531-443c-e9d0-dd187b5c66b2"
      },
      "execution_count": null,
      "outputs": [
        {
          "output_type": "stream",
          "name": "stdout",
          "text": [
            "[(3, 1), (0, 4), (1, 5), (4, 8)]\n",
            "[(0, 4), (1, 5), (3, 1), (4, 8)]\n",
            "4\n"
          ]
        }
      ]
    },
    {
      "cell_type": "markdown",
      "source": [
        "# 6. 比較兩個句子中相同的字數"
      ],
      "metadata": {
        "id": "4zi-W33H9x4I"
      }
    },
    {
      "cell_type": "code",
      "source": [
        "s1 = 'What is your name?'\n",
        "s2 = 'what is this?'\n",
        "\n",
        "list1 = s1.split()\n",
        "print(list1)\n",
        "\n",
        "list2 = s2.split()\n",
        "print(list2)\n",
        "\n",
        "count = 0\n",
        "for a in list1:\n",
        "  if a in list2:\n",
        "    count = count+1\n",
        "print(count)    \n"
      ],
      "metadata": {
        "colab": {
          "base_uri": "https://localhost:8080/"
        },
        "id": "SAyHLPwD97AM",
        "outputId": "7ce0347d-51bb-4eca-c42c-9e72de890b9f"
      },
      "execution_count": 1,
      "outputs": [
        {
          "output_type": "stream",
          "name": "stdout",
          "text": [
            "['What', 'is', 'your', 'name?']\n",
            "['what', 'is', 'this?']\n",
            "1\n"
          ]
        }
      ]
    },
    {
      "cell_type": "markdown",
      "source": [
        "# 7. 自動回答機械人 ver#1"
      ],
      "metadata": {
        "id": "r3fJ0dpODc-Z"
      }
    },
    {
      "cell_type": "code",
      "source": [
        "DB = [('What is your name?','I am ricky.'),\n",
        "      ('How old are you?','I am 18 years old.'),\n",
        "      ('When does the class start?','The class starts at 8:05'),\n",
        "      ('Where is puiching middle school?', 'Avenida de Horta e Costa, No.7, Macao.')\n",
        "      ]\n",
        "\n",
        "def match(alist,blist):\n",
        "    count = 0\n",
        "    for a in alist:\n",
        "        if a in blist:\n",
        "            count = count+1\n",
        "    return count \n",
        "\n",
        "while (True):\n",
        "    youAsk = input('youAsk: ')\n",
        "    \n",
        "    if youAsk=='bye':\n",
        "        break\n",
        "    else:\n",
        "        askList = youAsk.split()\n",
        "        nlist = []\n",
        "        for q,a in DB:\n",
        "            qList = q.split()\n",
        "            c = match(askList,qList)\n",
        "            nlist.append((c,a))\n",
        "              \n",
        "        nlist = sorted(nlist,reverse=True)\n",
        "        c,a = nlist[0]\n",
        "        print('bot:',a)"
      ],
      "metadata": {
        "colab": {
          "base_uri": "https://localhost:8080/"
        },
        "id": "pA3nE9pYDkS4",
        "outputId": "e2e99165-ab97-4c22-f1d5-95fdc63bfc06"
      },
      "execution_count": null,
      "outputs": [
        {
          "name": "stdout",
          "output_type": "stream",
          "text": [
            "youAsk: name\n",
            "bot: The class starts at 8:05\n",
            "youAsk: name?\n",
            "bot: I am ricky.\n",
            "youAsk: bye\n"
          ]
        }
      ]
    },
    {
      "cell_type": "markdown",
      "metadata": {
        "id": "Q1B5s21gw2ZL"
      },
      "source": [
        "## 安裝 jieba 中文斷字工具"
      ]
    },
    {
      "cell_type": "code",
      "execution_count": null,
      "metadata": {
        "id": "zrWuwHq-w2ZT",
        "colab": {
          "base_uri": "https://localhost:8080/"
        },
        "outputId": "f8d176b6-a96a-4abb-e1b2-bbfb626c31ec"
      },
      "outputs": [
        {
          "output_type": "stream",
          "name": "stdout",
          "text": [
            "Looking in indexes: https://pypi.org/simple, https://us-python.pkg.dev/colab-wheels/public/simple/\n",
            "Requirement already satisfied: jieba in /usr/local/lib/python3.7/dist-packages (0.42.1)\n"
          ]
        }
      ],
      "source": [
        "!pip install jieba"
      ]
    },
    {
      "cell_type": "markdown",
      "metadata": {
        "id": "KF7DVlhIw2ZW"
      },
      "source": [
        "## 測試中文斷字"
      ]
    },
    {
      "cell_type": "code",
      "execution_count": null,
      "metadata": {
        "id": "RquyRr63w2ZX",
        "colab": {
          "base_uri": "https://localhost:8080/"
        },
        "outputId": "24718eef-edc4-4a36-e3ee-4f3649bf7997"
      },
      "outputs": [
        {
          "output_type": "stream",
          "name": "stdout",
          "text": [
            "['你的名字是甚麼?']\n"
          ]
        }
      ],
      "source": [
        "import jieba\n",
        "import logging\n",
        "jieba.setLogLevel(logging.INFO)\n",
        "\n",
        "askList = '你的名字是甚麼?'.split()\n",
        "print(askList)"
      ]
    },
    {
      "cell_type": "markdown",
      "metadata": {
        "id": "LcmjdiVcw2ZZ"
      },
      "source": [
        "# 8. 中文版的自動回答機械人 ver#2"
      ]
    },
    {
      "cell_type": "code",
      "execution_count": null,
      "metadata": {
        "id": "CyNRVPAow2ZZ"
      },
      "outputs": [],
      "source": [
        "DB = [('你好嗎?', '我很好.'),\n",
        "      ('你吃晚飯了嗎?', '吃了.'),\n",
        "      ('你今年幾多歲?', '我今年18歲.'),\n",
        "      ('你喜歡吃什麼?', '巧克力.')\n",
        "      ]\n",
        "\t  "
      ]
    },
    {
      "cell_type": "code",
      "execution_count": null,
      "metadata": {
        "id": "56Pl8w7vw2Zj",
        "outputId": "5dda1e37-c4f7-4698-f37d-f13fa6f1c88b",
        "colab": {
          "base_uri": "https://localhost:8080/"
        }
      },
      "outputs": [
        {
          "output_type": "stream",
          "name": "stdout",
          "text": [
            "你問: 早晨\n",
            "資料庫找不到對應的回答, 請教我如何回答:hi\n",
            "你問: 再見\n",
            "DB=[\n",
            "('你好嗎?', '我很好.'),\n",
            "('你吃晚飯了嗎?', '吃了.'),\n",
            "('你今年幾多歲?', '我今年18歲.'),\n",
            "('你喜歡吃什麼?', '巧克力.'),\n",
            "('早晨', 'hi')\n",
            "]\n"
          ]
        }
      ],
      "source": [
        "import jieba\n",
        "import logging\n",
        "jieba.setLogLevel(logging.INFO)\n",
        "\n",
        "\n",
        "def match(alist,blist):\n",
        "    count = 0\n",
        "    for a in alist:\n",
        "        if a in blist:\n",
        "            count = count+1\n",
        "    return count \n",
        "\n",
        "def printDB():\n",
        "    print('DB=[')\n",
        "    for i in range(len(DB)-1):\n",
        "        print(f'{DB[i]},')\n",
        "    print(DB[len(DB)-1])    \n",
        "    print(']') \n",
        "\n",
        "while (True):\n",
        "    youAsk = input('你問: ')\n",
        "    \n",
        "    if youAsk=='再見':\n",
        "        printDB()\n",
        "        break\n",
        "    else:\n",
        "        askList = jieba.lcut(youAsk)\n",
        "        nlist = []\n",
        "        for q,a in DB:\n",
        "            qList = jieba.lcut(q)\n",
        "            c = match(askList,qList)\n",
        "            nlist.append((c,a))\n",
        "              \n",
        "        nlist = sorted(nlist,reverse=True)\n",
        "        c,a = nlist[0]\n",
        "        if (c==0):\n",
        "            new_answer=input('資料庫找不到對應的回答, 請教我如何回答:')\n",
        "            DB.append((youAsk,new_answer))\n",
        "        else:    \n",
        "            print('機械人:',a)"
      ]
    },
    {
      "cell_type": "code",
      "source": [
        "run cmd"
      ],
      "metadata": {
        "colab": {
          "base_uri": "https://localhost:8080/"
        },
        "id": "J9DzKMYx7MaX",
        "outputId": "f378da8e-09a4-4f8a-a56f-46e695fd35cd"
      },
      "execution_count": null,
      "outputs": [
        {
          "output_type": "stream",
          "name": "stdout",
          "text": [
            "Authtoken saved to configuration file: /root/.config/ngrok/ngrok.yml\n",
            "    PID TTY      STAT   TIME COMMAND\n",
            "      1 ?        Ss     0:00 /sbin/docker-init -- /datalab/run.sh\n",
            "      8 ?        Sl     0:01 /tools/node/bin/node /datalab/web/app.js\n",
            "     19 ?        Ss     0:00 tail -n +0 -F /root/.config/Google/DriveFS/Logs/dpb\n",
            "     30 ?        Z      0:05 [python3] <defunct>\n",
            "     31 ?        S      0:00 python3 /usr/local/bin/colab-fileshim.py\n",
            "     44 ?        Sl     0:01 /usr/bin/python3 /usr/local/bin/jupyter-notebook --\n",
            "     45 ?        Sl     0:00 /usr/local/bin/dap_multiplexer --domain_socket_path\n",
            "     62 ?        Ssl    0:03 /usr/bin/python3 -m ipykernel_launcher -f /root/.lo\n",
            "     82 ?        Sl     0:00 /usr/bin/python3 /usr/local/lib/python3.7/dist-pack\n",
            "    158 ?        Sl     0:07 node /datalab/web/pyright/pyright-langserver.js --s\n",
            "    189 ?        Sl     0:00 ./ngrok http 8000 --log=stdout\n",
            "    193 ?        R      0:00 ps -ax\n"
          ]
        }
      ]
    },
    {
      "cell_type": "markdown",
      "metadata": {
        "id": "62pAqOVJw2Zm"
      },
      "source": [
        "# 9. 中文版的自動回答機械人 ver#3"
      ]
    },
    {
      "cell_type": "code",
      "execution_count": null,
      "metadata": {
        "id": "JzfeQu55w2Zn"
      },
      "outputs": [],
      "source": [
        "with open(\"DB.txt\", \"r\") as f:\n",
        "    dataDB = f.read().rstrip()\n",
        "\n",
        "DB = eval(dataDB)    "
      ]
    },
    {
      "cell_type": "code",
      "execution_count": null,
      "metadata": {
        "id": "BoAFIsXTw2Zp",
        "outputId": "1af10cb9-48d5-41aa-8494-17385e43664e",
        "colab": {
          "base_uri": "https://localhost:8080/"
        }
      },
      "outputs": [
        {
          "output_type": "stream",
          "name": "stderr",
          "text": [
            " * Running on http://localhost:8000/ (Press CTRL+C to quit)\n",
            "127.0.0.1 - - [24/May/2022 03:24:12] \"\u001b[37mGET / HTTP/1.1\u001b[0m\" 200 -\n",
            "127.0.0.1 - - [24/May/2022 03:24:19] \"\u001b[37mGET / HTTP/1.1\u001b[0m\" 200 -\n",
            "127.0.0.1 - - [24/May/2022 03:24:20] \"\u001b[37mGET /static/chatbot.ico HTTP/1.1\u001b[0m\" 200 -\n",
            "127.0.0.1 - - [24/May/2022 03:25:12] \"\u001b[37mGET / HTTP/1.1\u001b[0m\" 200 -\n",
            "127.0.0.1 - - [24/May/2022 03:25:14] \"\u001b[37mGET /static/chatbot.ico HTTP/1.1\u001b[0m\" 200 -\n"
          ]
        },
        {
          "output_type": "stream",
          "name": "stdout",
          "text": [
            "有人問: Hi\n"
          ]
        }
      ],
      "source": [
        "from flask import Flask, request, send_from_directory\n",
        "from ipywidgets import widgets\n",
        "from IPython.display import display\n",
        "import io\n",
        "import jieba, json\n",
        "from werkzeug.serving import run_simple\n",
        "\n",
        "\n",
        "\n",
        "def match(alist,blist):\n",
        "    cout = 0\n",
        "    for a in alist:\n",
        "        if a in blist:\n",
        "            cout = cout+1\n",
        "    return cout \n",
        "\n",
        "def printDB():\n",
        "    print('DB=[')\n",
        "    for i in range(len(DB)-1):\n",
        "        print(f'{DB[i]},')\n",
        "    print(DB[len(DB)-1])    \n",
        "    print(']') \n",
        "\n",
        "app = Flask(\"AI chat\")\n",
        "\n",
        "\n",
        "@app.route(\"/\")\n",
        "def form():\n",
        "    with open('chatbot.html', 'r',encoding='utf8') as chatbotfile:\n",
        "        data = chatbotfile.read()\n",
        "    return data\n",
        "\n",
        "    \n",
        "@app.route(\"/ask\", methods=['POST', 'GET'])\n",
        "def ask():\n",
        "    if not request.args.get('text'):\n",
        "        return '都沒有文字:<';\n",
        "    \n",
        "    youAsk = request.args.get('text')\n",
        "    print('有人問: %s'%youAsk)\n",
        "    \n",
        "    askList = jieba.lcut(youAsk)\n",
        "    nlist = []\n",
        "    for q,a in DB:\n",
        "        qList = jieba.lcut(q)\n",
        "        c = match(askList,qList)\n",
        "        nlist.append((c,a))\n",
        "\n",
        "    nlist = sorted(nlist,reverse=True)\n",
        "    c,a = nlist[0]\n",
        "    if (c==0):\n",
        "        new_answer=input('資料庫找不到對應的回答, 請教我如何回答:')\n",
        "        DB.append((youAsk,new_answer))\n",
        "        response = new_answer\n",
        "    else:    \n",
        "        response = a\n",
        "   \n",
        "    print('機械人:',response)\n",
        "    return response\n",
        "\n",
        "\n",
        "\n",
        "if __name__ == \"__main__\":\n",
        "    run_simple('localhost', 8000, app)"
      ]
    },
    {
      "cell_type": "markdown",
      "source": [
        "# 10.自動回答的改進"
      ],
      "metadata": {
        "id": "MGgRG5Ms5V5u"
      }
    },
    {
      "cell_type": "markdown",
      "source": [
        "## 「的的了了」不必計算"
      ],
      "metadata": {
        "id": "yPm1874V5kJb"
      }
    },
    {
      "cell_type": "code",
      "execution_count": null,
      "metadata": {
        "id": "l69Na7zMw2Zr",
        "colab": {
          "base_uri": "https://localhost:8080/"
        },
        "outputId": "7d5b2c20-3444-482a-f430-62b28903b645"
      },
      "outputs": [
        {
          "output_type": "stream",
          "name": "stdout",
          "text": [
            "['你', '吃', '晚飯', '了', '嗎', '?']\n"
          ]
        }
      ],
      "source": [
        "dropList = ['的','了']\n",
        "youAsk = '你吃晚飯了嗎?'\n",
        "askList = jieba.lcut(youAsk)\n",
        "#askList = [x for x in askList if x not in dropList]\n",
        "print(askList)"
      ]
    },
    {
      "cell_type": "markdown",
      "source": [
        "## 設定最低的匹配值\n"
      ],
      "metadata": {
        "id": "9hnRFQCN6JbS"
      }
    },
    {
      "cell_type": "code",
      "source": [
        "nlist = [(2,'a'),(1,'b'),(0,'c')]\n",
        "therehold = 3\n",
        "nlist = [x for x in nlist if x[0]>therehold]\n",
        "nlist = sorted(nlist,reverse=True)\n",
        "if len(nlist)==0 or nlist[0][0]<0:\n",
        "  print('not found')\n",
        "else:\n",
        "  print(nlist[0])"
      ],
      "metadata": {
        "colab": {
          "base_uri": "https://localhost:8080/"
        },
        "id": "EhjKYFj36pl1",
        "outputId": "de9e4312-ac3a-41f0-9087-672e1b39e5a9"
      },
      "execution_count": null,
      "outputs": [
        {
          "output_type": "stream",
          "name": "stdout",
          "text": [
            "not found\n"
          ]
        }
      ]
    },
    {
      "cell_type": "markdown",
      "source": [
        "## 挑戰圖靈測試"
      ],
      "metadata": {
        "id": "fh5MGRXc6qXN"
      }
    },
    {
      "cell_type": "code",
      "source": [
        "import random\n",
        "nlist = [(2,'a'),(2,'b'),(2,'c'),(1,'d')]\n",
        "nlist = sorted(nlist,reverse=True)\n",
        "maxi = nlist[0][0]\n",
        "nlist = [x for x in nlist if x[0]==maxi]\n",
        "random.shuffle(nlist)\n",
        "print(nlist[0])"
      ],
      "metadata": {
        "colab": {
          "base_uri": "https://localhost:8080/"
        },
        "id": "DPG8PC7C8wzT",
        "outputId": "8779bc22-3aa5-4b57-94b0-e897e1f23f47"
      },
      "execution_count": null,
      "outputs": [
        {
          "output_type": "stream",
          "name": "stdout",
          "text": [
            "(2, 'b')\n"
          ]
        }
      ]
    },
    {
      "cell_type": "markdown",
      "source": [
        "## 上下文處理"
      ],
      "metadata": {
        "id": "LwUek5hC8ylE"
      }
    },
    {
      "cell_type": "markdown",
      "source": [
        "設定主謂賓語 或 時間、地點、人物等欄位, 下文未有提供的訊息, 用上文的補上"
      ],
      "metadata": {
        "id": "W7YpJayFFUri"
      }
    },
    {
      "cell_type": "markdown",
      "source": [
        "## 分佈式處理"
      ],
      "metadata": {
        "id": "YYNadm7l83Jw"
      }
    },
    {
      "cell_type": "markdown",
      "source": [
        "設定多個主題自動回答機機械人, 利用分佈式網絡協同處理"
      ],
      "metadata": {
        "id": "cW8N4sUIGDws"
      }
    },
    {
      "cell_type": "markdown",
      "source": [
        "## 將問題交比網絡自動回答機械人"
      ],
      "metadata": {
        "id": "yKK_ayBbHBmh"
      }
    },
    {
      "cell_type": "code",
      "source": [
        "import requests\n",
        "s = '你好嗎?'\n",
        "resp = requests.get(\"http://api.qingyunke.com/api.php\", {'key': 'free', 'appid':0, 'msg': s})\n",
        "resp.encoding = 'utf8'\n",
        "resp = resp.json()\n",
        "print('菲菲：', resp['content'])\n"
      ],
      "metadata": {
        "colab": {
          "base_uri": "https://localhost:8080/"
        },
        "id": "elvJp5mlHKff",
        "outputId": "c7d9afe5-0148-45ae-8dfe-973b05c7b7f2"
      },
      "execution_count": null,
      "outputs": [
        {
          "output_type": "stream",
          "name": "stdout",
          "text": [
            "菲菲： 我不好，你都不愛我，ToT\n"
          ]
        }
      ]
    }
  ],
  "metadata": {
    "kernelspec": {
      "display_name": "Python 3",
      "language": "python",
      "name": "python3"
    },
    "language_info": {
      "codemirror_mode": {
        "name": "ipython",
        "version": 3
      },
      "file_extension": ".py",
      "mimetype": "text/x-python",
      "name": "python",
      "nbconvert_exporter": "python",
      "pygments_lexer": "ipython3",
      "version": "3.6.5"
    },
    "colab": {
      "name": "chatbot3.ipynb",
      "provenance": [],
      "collapsed_sections": []
    }
  },
  "nbformat": 4,
  "nbformat_minor": 0
}