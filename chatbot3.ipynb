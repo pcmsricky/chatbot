{
 "cells": [
  {
   "cell_type": "markdown",
   "metadata": {
    "id": "d-IomB_o6scO"
   },
   "source": [
    "# (FD22-0493) 聊天機械人的技術原理和應用\n",
    "\n",
    "\n",
    "1. 瞭解人工智能發展的現況\n",
    "2. 學習NLP自然語言的理論\n",
    "3. 認識聊天機械人的技術和應用範圍\n",
    "4. 利用Python語言實作簡單的聊天機械人\n",
    "\n",
    "\n"
   ]
  },
  {
   "cell_type": "markdown",
   "metadata": {
    "id": "nSC4Rsx5AHKZ"
   },
   "source": [
    "# 1.下載教材\n"
   ]
  },
  {
   "cell_type": "code",
   "execution_count": 1,
   "metadata": {
    "colab": {
     "base_uri": "https://localhost:8080/"
    },
    "id": "seXmkSXXw6oE",
    "outputId": "9d9e387b-ef56-42a7-a7fb-75f65050209f"
   },
   "outputs": [
    {
     "name": "stdout",
     "output_type": "stream",
     "text": [
      "Cloning into 'chatbot'...\n",
      "remote: Enumerating objects: 46, done.\u001b[K\n",
      "remote: Counting objects: 100% (10/10), done.\u001b[K\n",
      "remote: Compressing objects: 100% (9/9), done.\u001b[K\n",
      "remote: Total 46 (delta 1), reused 8 (delta 1), pack-reused 36\u001b[K\n",
      "Unpacking objects: 100% (46/46), done.\n",
      "/content/chatbot\n"
     ]
    }
   ],
   "source": [
    "!git clone https://github.com/pcmsricky/chatbot\n",
    "%cd chatbot"
   ]
  },
  {
   "cell_type": "markdown",
   "metadata": {
    "id": "-HFHLlNYAXSS"
   },
   "source": [
    "# 2. Python 中的變數"
   ]
  },
  {
   "cell_type": "code",
   "execution_count": 2,
   "metadata": {
    "colab": {
     "base_uri": "https://localhost:8080/"
    },
    "id": "Kry2AbipzWUL",
    "outputId": "2028cb08-5bfa-4eee-972d-6edae01db1d2"
   },
   "outputs": [
    {
     "name": "stdout",
     "output_type": "stream",
     "text": [
      "3\n"
     ]
    }
   ],
   "source": [
    "#單獨的變數\n",
    "num = 3           #數字變數\n",
    "text = 'Hello'    #文字變數\n",
    "\n",
    "print(num)"
   ]
  },
  {
   "cell_type": "code",
   "execution_count": 3,
   "metadata": {
    "colab": {
     "base_uri": "https://localhost:8080/"
    },
    "id": "ulwGlcgVBKHV",
    "outputId": "5fdffe49-43d2-4389-94ec-b901d10f8e5b"
   },
   "outputs": [
    {
     "name": "stdout",
     "output_type": "stream",
     "text": [
      "[1, 3, 5, 8]\n"
     ]
    }
   ],
   "source": [
    "#list, 一個變數可以儲存多個資料\n",
    "nlist = [1,3,5]\n",
    "nlist.append(8)\n",
    "\n",
    "tlist = ['hello','morning']\n",
    "xlist = ['hello',1,4,'Peter']\n",
    "\n",
    "print(nlist)"
   ]
  },
  {
   "cell_type": "markdown",
   "metadata": {
    "id": "X0hM2qHMCu8B"
   },
   "source": [
    "# 3. 在list中搜尋"
   ]
  },
  {
   "cell_type": "code",
   "execution_count": 4,
   "metadata": {
    "colab": {
     "base_uri": "https://localhost:8080/"
    },
    "id": "TBw1KaLTC8-9",
    "outputId": "9d85e42c-9917-4c12-c8d1-7bb23e89e627"
   },
   "outputs": [
    {
     "name": "stdout",
     "output_type": "stream",
     "text": [
      "I found it.\n"
     ]
    }
   ],
   "source": [
    "DB = [1,4,5,8]\n",
    "target = 4\n",
    "\n",
    "for x in DB:\n",
    "  if x==target:\n",
    "    print('I found it.')\n",
    "    break\n",
    "else:\n",
    "  print('not found.')"
   ]
  },
  {
   "cell_type": "markdown",
   "metadata": {
    "id": "bM3GJIU6B8ia"
   },
   "source": [
    "# 4. 用list做語料庫"
   ]
  },
  {
   "cell_type": "code",
   "execution_count": 5,
   "metadata": {
    "colab": {
     "base_uri": "https://localhost:8080/"
    },
    "id": "V8db0a8BCITm",
    "outputId": "256efbec-9574-468c-cdee-54ac1887aee0"
   },
   "outputs": [
    {
     "name": "stdout",
     "output_type": "stream",
     "text": [
      "youAsk:Sunday\n",
      "not found.\n"
     ]
    }
   ],
   "source": [
    "DB = ['hello','morning','sunday','What is your name?']\n",
    "target = input('youAsk:')\n",
    "for q in DB:\n",
    "  if q==target:\n",
    "    print('I found it.')\n",
    "    break\n",
    "else:\n",
    "  print('not found.')    "
   ]
  },
  {
   "cell_type": "markdown",
   "metadata": {
    "id": "BUdy_1ruE_nF"
   },
   "source": [
    "# 5.在list中搜尋最接近的值, 神奇的tuple"
   ]
  },
  {
   "cell_type": "code",
   "execution_count": 6,
   "metadata": {
    "colab": {
     "base_uri": "https://localhost:8080/"
    },
    "id": "NfkW49hRFPup",
    "outputId": "92fd8810-2531-443c-e9d0-dd187b5c66b2"
   },
   "outputs": [
    {
     "name": "stdout",
     "output_type": "stream",
     "text": [
      "[(3, 1), (0, 4), (1, 5), (4, 8)]\n",
      "[(0, 4), (1, 5), (3, 1), (4, 8)]\n",
      "4\n"
     ]
    }
   ],
   "source": [
    "DB = [1,4,5,8]\n",
    "target = 4\n",
    "\n",
    "tmp = []\n",
    "for x in DB:\n",
    "  tmp.append(  (abs(target-x),x) )\n",
    "\n",
    "print(tmp)  \n",
    "DB = sorted(tmp)\n",
    "print(DB)\n",
    "diff,ans = DB[0]\n",
    "print(ans)"
   ]
  },
  {
   "cell_type": "markdown",
   "metadata": {
    "id": "r3fJ0dpODc-Z"
   },
   "source": [
    "# 6. 自動回答機械人 ver#1"
   ]
  },
  {
   "cell_type": "code",
   "execution_count": 7,
   "metadata": {
    "colab": {
     "base_uri": "https://localhost:8080/"
    },
    "id": "pA3nE9pYDkS4",
    "outputId": "e2e99165-ab97-4c22-f1d5-95fdc63bfc06"
   },
   "outputs": [
    {
     "name": "stdout",
     "output_type": "stream",
     "text": [
      "youAsk: name\n",
      "bot: The class starts at 8:05\n",
      "youAsk: name?\n",
      "bot: I am ricky.\n",
      "youAsk: bye\n"
     ]
    }
   ],
   "source": [
    "DB = [('What is your name?','I am ricky.'),\n",
    "      ('How old are you?','I am 18 years old.'),\n",
    "      ('When does the class start?','The class starts at 8:05'),\n",
    "      ('Where is puiching middle school?', 'Avenida de Horta e Costa, No.7, Macao.')\n",
    "      ]\n",
    "\n",
    "def match(alist,blist):\n",
    "    count = 0\n",
    "    for a in alist:\n",
    "        if a in blist:\n",
    "            count = count+1\n",
    "    return count \n",
    "\n",
    "while (True):\n",
    "    youAsk = input('youAsk: ')\n",
    "    \n",
    "    if youAsk=='bye':\n",
    "        break\n",
    "    else:\n",
    "        askList = youAsk.split()\n",
    "        nlist = []\n",
    "        for q,a in DB:\n",
    "            qList = q.split()\n",
    "            c = match(askList,qList)\n",
    "            nlist.append((c,a))\n",
    "              \n",
    "        nlist = sorted(nlist,reverse=True)\n",
    "        c,a = nlist[0]\n",
    "        print('bot:',a)"
   ]
  },
  {
   "cell_type": "markdown",
   "metadata": {
    "id": "Q1B5s21gw2ZL"
   },
   "source": [
    "## 安裝 jieba 中文斷字工具"
   ]
  },
  {
   "cell_type": "code",
   "execution_count": 8,
   "metadata": {
    "colab": {
     "base_uri": "https://localhost:8080/"
    },
    "id": "zrWuwHq-w2ZT",
    "outputId": "f8d176b6-a96a-4abb-e1b2-bbfb626c31ec"
   },
   "outputs": [
    {
     "name": "stdout",
     "output_type": "stream",
     "text": [
      "Looking in indexes: https://pypi.org/simple, https://us-python.pkg.dev/colab-wheels/public/simple/\n",
      "Requirement already satisfied: jieba in /usr/local/lib/python3.7/dist-packages (0.42.1)\n"
     ]
    }
   ],
   "source": [
    "!pip install jieba"
   ]
  },
  {
   "cell_type": "markdown",
   "metadata": {
    "id": "KF7DVlhIw2ZW"
   },
   "source": [
    "## 測試中文斷字"
   ]
  },
  {
   "cell_type": "code",
   "execution_count": 9,
   "metadata": {
    "colab": {
     "base_uri": "https://localhost:8080/"
    },
    "id": "RquyRr63w2ZX",
    "outputId": "24718eef-edc4-4a36-e3ee-4f3649bf7997"
   },
   "outputs": [
    {
     "name": "stdout",
     "output_type": "stream",
     "text": [
      "['你的名字是甚麼?']\n"
     ]
    }
   ],
   "source": [
    "import jieba\n",
    "import logging\n",
    "jieba.setLogLevel(logging.INFO)\n",
    "\n",
    "askList = '你的名字是甚麼?'.split()\n",
    "print(askList)"
   ]
  },
  {
   "cell_type": "markdown",
   "metadata": {
    "id": "LcmjdiVcw2ZZ"
   },
   "source": [
    "## 中文版的自動回答機械人 ver#2"
   ]
  },
  {
   "cell_type": "code",
   "execution_count": 10,
   "metadata": {
    "id": "CyNRVPAow2ZZ"
   },
   "outputs": [],
   "source": [
    "DB = [('你好嗎?', '我很好.'),\n",
    "      ('你吃晚飯了嗎?', '吃了.'),\n",
    "      ('你今年幾多歲?', '我今年18歲.'),\n",
    "      ('你喜歡吃什麼?', '巧克力.')\n",
    "      ]\n",
    "\t  "
   ]
  },
  {
   "cell_type": "code",
   "execution_count": 11,
   "metadata": {
    "colab": {
     "base_uri": "https://localhost:8080/"
    },
    "id": "56Pl8w7vw2Zj",
    "outputId": "5dda1e37-c4f7-4698-f37d-f13fa6f1c88b"
   },
   "outputs": [
    {
     "name": "stdout",
     "output_type": "stream",
     "text": [
      "你問: 早晨\n",
      "資料庫找不到對應的回答, 請教我如何回答:hi\n",
      "你問: 再見\n",
      "DB=[\n",
      "('你好嗎?', '我很好.'),\n",
      "('你吃晚飯了嗎?', '吃了.'),\n",
      "('你今年幾多歲?', '我今年18歲.'),\n",
      "('你喜歡吃什麼?', '巧克力.'),\n",
      "('早晨', 'hi')\n",
      "]\n"
     ]
    }
   ],
   "source": [
    "import jieba\n",
    "import logging\n",
    "jieba.setLogLevel(logging.INFO)\n",
    "\n",
    "\n",
    "def match(alist,blist):\n",
    "    count = 0\n",
    "    for a in alist:\n",
    "        if a in blist:\n",
    "            count = count+1\n",
    "    return count \n",
    "\n",
    "def printDB():\n",
    "    print('DB=[')\n",
    "    for i in range(len(DB)-1):\n",
    "        print(f'{DB[i]},')\n",
    "    print(DB[len(DB)-1])    \n",
    "    print(']') \n",
    "\n",
    "while (True):\n",
    "    youAsk = input('你問: ')\n",
    "    \n",
    "    if youAsk=='再見':\n",
    "        printDB()\n",
    "        break\n",
    "    else:\n",
    "        askList = jieba.lcut(youAsk)\n",
    "        nlist = []\n",
    "        for q,a in DB:\n",
    "            qList = jieba.lcut(q)\n",
    "            c = match(askList,qList)\n",
    "            nlist.append((c,a))\n",
    "              \n",
    "        nlist = sorted(nlist,reverse=True)\n",
    "        c,a = nlist[0]\n",
    "        if (c==0):\n",
    "            new_answer=input('資料庫找不到對應的回答, 請教我如何回答:')\n",
    "            DB.append((youAsk,new_answer))\n",
    "        else:    \n",
    "            print('機械人:',a)"
   ]
  },
  {
   "cell_type": "code",
   "execution_count": 12,
   "metadata": {
    "colab": {
     "base_uri": "https://localhost:8080/"
    },
    "id": "J9DzKMYx7MaX",
    "outputId": "f378da8e-09a4-4f8a-a56f-46e695fd35cd"
   },
   "outputs": [
    {
     "name": "stdout",
     "output_type": "stream",
     "text": [
      "Authtoken saved to configuration file: /root/.config/ngrok/ngrok.yml\n",
      "    PID TTY      STAT   TIME COMMAND\n",
      "      1 ?        Ss     0:00 /sbin/docker-init -- /datalab/run.sh\n",
      "      8 ?        Sl     0:01 /tools/node/bin/node /datalab/web/app.js\n",
      "     19 ?        Ss     0:00 tail -n +0 -F /root/.config/Google/DriveFS/Logs/dpb\n",
      "     30 ?        Z      0:05 [python3] <defunct>\n",
      "     31 ?        S      0:00 python3 /usr/local/bin/colab-fileshim.py\n",
      "     44 ?        Sl     0:01 /usr/bin/python3 /usr/local/bin/jupyter-notebook --\n",
      "     45 ?        Sl     0:00 /usr/local/bin/dap_multiplexer --domain_socket_path\n",
      "     62 ?        Ssl    0:03 /usr/bin/python3 -m ipykernel_launcher -f /root/.lo\n",
      "     82 ?        Sl     0:00 /usr/bin/python3 /usr/local/lib/python3.7/dist-pack\n",
      "    158 ?        Sl     0:07 node /datalab/web/pyright/pyright-langserver.js --s\n",
      "    189 ?        Sl     0:00 ./ngrok http 8000 --log=stdout\n",
      "    193 ?        R      0:00 ps -ax\n"
     ]
    }
   ],
   "source": [
    "#run ngrok"
   ]
  },
  {
   "cell_type": "markdown",
   "metadata": {
    "id": "62pAqOVJw2Zm"
   },
   "source": [
    "## 中文版的自動回答機械人 ver#3"
   ]
  },
  {
   "cell_type": "code",
   "execution_count": 2,
   "metadata": {
    "id": "JzfeQu55w2Zn"
   },
   "outputs": [],
   "source": [
    "with open(\"DB.txt\", \"r\", encoding=\"utf-8\") as f:\n",
    "    dataDB = f.read().rstrip()\n",
    "\n",
    "DB = eval(dataDB)    "
   ]
  },
  {
   "cell_type": "code",
   "execution_count": null,
   "metadata": {
    "colab": {
     "base_uri": "https://localhost:8080/"
    },
    "id": "BoAFIsXTw2Zp",
    "outputId": "1af10cb9-48d5-41aa-8494-17385e43664e"
   },
   "outputs": [
    {
     "name": "stderr",
     "output_type": "stream",
     "text": [
      " * Running on http://localhost:8000/ (Press CTRL+C to quit)\n",
      "127.0.0.1 - - [24/May/2022 11:41:50] \"\u001b[37mGET / HTTP/1.1\u001b[0m\" 200 -\n",
      "127.0.0.1 - - [24/May/2022 11:41:54] \"\u001b[37mGET / HTTP/1.1\u001b[0m\" 200 -\n",
      "127.0.0.1 - - [24/May/2022 11:41:56] \"\u001b[37mGET /static/chatbot.ico HTTP/1.1\u001b[0m\" 200 -\n",
      "127.0.0.1 - - [24/May/2022 11:42:25] \"\u001b[37mGET / HTTP/1.1\u001b[0m\" 200 -\n",
      "127.0.0.1 - - [24/May/2022 11:42:27] \"\u001b[37mGET /static/chatbot.ico HTTP/1.1\u001b[0m\" 200 -\n",
      "127.0.0.1 - - [24/May/2022 11:43:26] \"\u001b[37mGET / HTTP/1.1\u001b[0m\" 200 -\n",
      "127.0.0.1 - - [24/May/2022 11:45:22] \"\u001b[37mGET / HTTP/1.1\u001b[0m\" 200 -\n",
      "127.0.0.1 - - [24/May/2022 11:46:01] \"\u001b[37mGET / HTTP/1.1\u001b[0m\" 200 -\n",
      "127.0.0.1 - - [24/May/2022 11:46:11] \"\u001b[37mGET / HTTP/1.1\u001b[0m\" 200 -\n",
      "127.0.0.1 - - [24/May/2022 11:46:23] \"\u001b[37mGET / HTTP/1.1\u001b[0m\" 200 -\n",
      "127.0.0.1 - - [24/May/2022 11:46:38] \"\u001b[37mGET / HTTP/1.1\u001b[0m\" 200 -\n",
      "127.0.0.1 - - [24/May/2022 11:46:45] \"\u001b[37mGET / HTTP/1.1\u001b[0m\" 200 -\n",
      "127.0.0.1 - - [24/May/2022 11:46:50] \"\u001b[37mGET / HTTP/1.1\u001b[0m\" 200 -\n",
      "127.0.0.1 - - [24/May/2022 11:47:03] \"\u001b[37mGET /ask?text= HTTP/1.1\u001b[0m\" 200 -\n",
      "127.0.0.1 - - [24/May/2022 11:47:04] \"\u001b[37mGET /static/typing2.gif HTTP/1.1\u001b[0m\" 200 -\n",
      "127.0.0.1 - - [24/May/2022 11:47:06] \"\u001b[37mGET / HTTP/1.1\u001b[0m\" 200 -\n",
      "Building prefix dict from the default dictionary ...\n"
     ]
    },
    {
     "name": "stdout",
     "output_type": "stream",
     "text": [
      "有人問: 麥\n"
     ]
    },
    {
     "name": "stderr",
     "output_type": "stream",
     "text": [
      "Dumping model to file cache C:\\Users\\ricky\\AppData\\Local\\Temp\\jieba.cache\n",
      "Loading model cost 1.197 seconds.\n",
      "Prefix dict has been built successfully.\n"
     ]
    },
    {
     "name": "stdout",
     "output_type": "stream",
     "text": [
      "資料庫找不到對應的回答, 請教我如何回答:vnd \n"
     ]
    },
    {
     "name": "stderr",
     "output_type": "stream",
     "text": [
      "127.0.0.1 - - [24/May/2022 11:55:10] \"\u001b[37mGET /ask?text=%E9%BA%A5 HTTP/1.1\u001b[0m\" 200 -\n",
      "127.0.0.1 - - [24/May/2022 11:55:10] \"\u001b[37mGET /ask?text=%E9%BA%A5 HTTP/1.1\u001b[0m\" 200 -\n",
      "127.0.0.1 - - [24/May/2022 11:55:10] \"\u001b[37mGET / HTTP/1.1\u001b[0m\" 200 -\n",
      "127.0.0.1 - - [24/May/2022 11:55:10] \"\u001b[37mGET /ask?text= HTTP/1.1\u001b[0m\" 200 -\n",
      "127.0.0.1 - - [24/May/2022 11:55:10] \"\u001b[37mGET / HTTP/1.1\u001b[0m\" 200 -\n",
      "127.0.0.1 - - [24/May/2022 11:55:10] \"\u001b[37mGET /ask?text=%E6%96%B0%E7%9A%84 HTTP/1.1\u001b[0m\" 200 -\n",
      "127.0.0.1 - - [24/May/2022 11:55:10] \"\u001b[37mGET /static/typing2.gif HTTP/1.1\u001b[0m\" 200 -\n",
      "127.0.0.1 - - [24/May/2022 11:55:10] \"\u001b[37mGET / HTTP/1.1\u001b[0m\" 200 -\n",
      "127.0.0.1 - - [24/May/2022 11:55:10] \"\u001b[37mGET / HTTP/1.1\u001b[0m\" 200 -\n"
     ]
    },
    {
     "name": "stdout",
     "output_type": "stream",
     "text": [
      "機械人: vnd \n",
      "有人問: 麥\n",
      "機械人: vnd \n",
      "有人問: 新的\n",
      "機械人: 非常愛.\n"
     ]
    },
    {
     "name": "stderr",
     "output_type": "stream",
     "text": [
      "127.0.0.1 - - [24/May/2022 11:55:11] \"\u001b[33mGET /favicon.ico HTTP/1.1\u001b[0m\" 404 -\n"
     ]
    }
   ],
   "source": [
    "from flask import Flask, request, send_from_directory\n",
    "from ipywidgets import widgets\n",
    "from IPython.display import display\n",
    "import io\n",
    "import jieba, json\n",
    "from werkzeug.serving import run_simple\n",
    "\n",
    "\n",
    "\n",
    "def match(alist,blist):\n",
    "    cout = 0\n",
    "    for a in alist:\n",
    "        if a in blist:\n",
    "            cout = cout+1\n",
    "    return cout \n",
    "\n",
    "def printDB():\n",
    "    print('DB=[')\n",
    "    for i in range(len(DB)-1):\n",
    "        print(f'{DB[i]},')\n",
    "    print(DB[len(DB)-1])    \n",
    "    print(']') \n",
    "\n",
    "app = Flask(\"AI chat\")\n",
    "\n",
    "\n",
    "@app.route(\"/\")\n",
    "def form():\n",
    "    with open('chatbot.html', 'r',encoding='utf8') as chatbotfile:\n",
    "        data = chatbotfile.read()\n",
    "    return data\n",
    "\n",
    "    \n",
    "@app.route(\"/ask\", methods=['POST', 'GET'])\n",
    "def ask():\n",
    "    if not request.args.get('text'):\n",
    "        return '都沒有文字:<';\n",
    "    \n",
    "    youAsk = request.args.get('text')\n",
    "    print('有人問: %s'%youAsk)\n",
    "    \n",
    "    askList = jieba.lcut(youAsk)\n",
    "    nlist = []\n",
    "    for q,a in DB:\n",
    "        qList = jieba.lcut(q)\n",
    "        c = match(askList,qList)\n",
    "        nlist.append((c,a))\n",
    "\n",
    "    nlist = sorted(nlist,reverse=True)\n",
    "    c,a = nlist[0]\n",
    "    if (c==0):\n",
    "        new_answer=input('資料庫找不到對應的回答, 請教我如何回答:')\n",
    "        DB.append((youAsk,new_answer))\n",
    "        response = new_answer\n",
    "    else:    \n",
    "        response = a\n",
    "   \n",
    "    print('機械人:',response)\n",
    "    return response\n",
    "\n",
    "\n",
    "\n",
    "if __name__ == \"__main__\":\n",
    "    run_simple('localhost', 8000, app)"
   ]
  },
  {
   "cell_type": "markdown",
   "metadata": {
    "id": "MGgRG5Ms5V5u"
   },
   "source": [
    "# 自動回答的改進"
   ]
  },
  {
   "cell_type": "markdown",
   "metadata": {
    "id": "yPm1874V5kJb"
   },
   "source": [
    "## 「的的了了」不必計算"
   ]
  },
  {
   "cell_type": "code",
   "execution_count": 15,
   "metadata": {
    "colab": {
     "base_uri": "https://localhost:8080/"
    },
    "id": "l69Na7zMw2Zr",
    "outputId": "7d5b2c20-3444-482a-f430-62b28903b645"
   },
   "outputs": [
    {
     "name": "stdout",
     "output_type": "stream",
     "text": [
      "['你', '吃', '晚飯', '了', '嗎', '?']\n"
     ]
    }
   ],
   "source": [
    "dropList = ['的','了']\n",
    "youAsk = '你吃晚飯了嗎?'\n",
    "askList = jieba.lcut(youAsk)\n",
    "#askList = [x for x in askList if x not in dropList]\n",
    "print(askList)"
   ]
  },
  {
   "cell_type": "markdown",
   "metadata": {
    "id": "9hnRFQCN6JbS"
   },
   "source": [
    "## 設定最低的匹配值\n"
   ]
  },
  {
   "cell_type": "code",
   "execution_count": 16,
   "metadata": {
    "colab": {
     "base_uri": "https://localhost:8080/"
    },
    "id": "EhjKYFj36pl1",
    "outputId": "de9e4312-ac3a-41f0-9087-672e1b39e5a9"
   },
   "outputs": [
    {
     "name": "stdout",
     "output_type": "stream",
     "text": [
      "not found\n"
     ]
    }
   ],
   "source": [
    "nlist = [(2,'a'),(1,'b'),(0,'c')]\n",
    "therehold = 3\n",
    "nlist = [x for x in nlist if x[0]>therehold]\n",
    "nlist = sorted(nlist,reverse=True)\n",
    "if len(nlist)==0 or nlist[0][0]<0:\n",
    "  print('not found')\n",
    "else:\n",
    "  print(nlist[0])"
   ]
  },
  {
   "cell_type": "markdown",
   "metadata": {
    "id": "fh5MGRXc6qXN"
   },
   "source": [
    "## 挑戰圖靈測試"
   ]
  },
  {
   "cell_type": "code",
   "execution_count": null,
   "metadata": {
    "colab": {
     "base_uri": "https://localhost:8080/"
    },
    "id": "DPG8PC7C8wzT",
    "outputId": "8779bc22-3aa5-4b57-94b0-e897e1f23f47"
   },
   "outputs": [
    {
     "name": "stdout",
     "output_type": "stream",
     "text": [
      "(2, 'b')\n"
     ]
    }
   ],
   "source": [
    "import random\n",
    "nlist = [(2,'a'),(2,'b'),(2,'c'),(1,'d')]\n",
    "nlist = sorted(nlist,reverse=True)\n",
    "maxi = nlist[0][0]\n",
    "nlist = [x for x in nlist if x[0]==maxi]\n",
    "random.shuffle(nlist)\n",
    "print(nlist[0])"
   ]
  },
  {
   "cell_type": "markdown",
   "metadata": {
    "id": "LwUek5hC8ylE"
   },
   "source": [
    "## 上下文處理"
   ]
  },
  {
   "cell_type": "markdown",
   "metadata": {
    "id": "W7YpJayFFUri"
   },
   "source": [
    "設定主謂賓語 或 時間、地點、人物等欄位, 下文未有提供的訊息, 用上文的補上"
   ]
  },
  {
   "cell_type": "markdown",
   "metadata": {
    "id": "YYNadm7l83Jw"
   },
   "source": [
    "## 分佈式處理"
   ]
  },
  {
   "cell_type": "markdown",
   "metadata": {
    "id": "cW8N4sUIGDws"
   },
   "source": [
    "設定多個主題自動回答機機械人, 利用分佈式網絡協同處理"
   ]
  },
  {
   "cell_type": "markdown",
   "metadata": {
    "id": "yKK_ayBbHBmh"
   },
   "source": [
    "## 將問題交比網絡自動回答機械人"
   ]
  },
  {
   "cell_type": "code",
   "execution_count": null,
   "metadata": {
    "colab": {
     "base_uri": "https://localhost:8080/"
    },
    "id": "elvJp5mlHKff",
    "outputId": "c7d9afe5-0148-45ae-8dfe-973b05c7b7f2"
   },
   "outputs": [
    {
     "name": "stdout",
     "output_type": "stream",
     "text": [
      "菲菲： 我不好，你都不愛我，ToT\n"
     ]
    }
   ],
   "source": [
    "import requests\n",
    "s = '你好嗎?'\n",
    "resp = requests.get(\"http://api.qingyunke.com/api.php\", {'key': 'free', 'appid':0, 'msg': s})\n",
    "resp.encoding = 'utf8'\n",
    "resp = resp.json()\n",
    "print('菲菲：', resp['content'])\n"
   ]
  }
 ],
 "metadata": {
  "colab": {
   "collapsed_sections": [],
   "name": "chatbot3.ipynb",
   "provenance": []
  },
  "kernelspec": {
   "display_name": "Python 3",
   "language": "python",
   "name": "python3"
  },
  "language_info": {
   "codemirror_mode": {
    "name": "ipython",
    "version": 3
   },
   "file_extension": ".py",
   "mimetype": "text/x-python",
   "name": "python",
   "nbconvert_exporter": "python",
   "pygments_lexer": "ipython3",
   "version": "3.6.5"
  }
 },
 "nbformat": 4,
 "nbformat_minor": 1
}
